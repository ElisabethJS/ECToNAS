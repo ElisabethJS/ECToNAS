{
 "cells": [
  {
   "cell_type": "markdown",
   "id": "bc561a32",
   "metadata": {},
   "source": [
    "# Executable example of how to run ECToNAS\n",
    "\n",
    "## Copyright (c) 2022 Schiessler et al.\n",
    "\n",
    "Note that running this file will download a large amount of data. Running ECToNAS will potentially require a large amount of computational resources. If you wish to limit the runtime, modify the hyperparameters in the file util/runtime_parameters.py accordingly."
   ]
  },
  {
   "cell_type": "markdown",
   "id": "281ec723",
   "metadata": {},
   "source": [
    "## Required imports"
   ]
  },
  {
   "cell_type": "code",
   "execution_count": 1,
   "id": "e91e7cb1",
   "metadata": {},
   "outputs": [],
   "source": [
    "# ECToNAS specific imports\n",
    "import main\n",
    "\n",
    "# 3rd party packages\n",
    "import os\n",
    "import numpy as np\n",
    "import tensorflow as tf\n",
    "from tensorflow import keras\n",
    "import tensorflow_datasets as tfds\n",
    "\n",
    "# plotting packages, not required to run ECToNAS\n",
    "import matplotlib.pyplot as plt\n",
    "import pandas as pd\n",
    "import seaborn as sns"
   ]
  },
  {
   "cell_type": "markdown",
   "id": "12b95036",
   "metadata": {},
   "source": [
    "## Data loading and preprocessing"
   ]
  },
  {
   "cell_type": "code",
   "execution_count": 2,
   "id": "874f5542",
   "metadata": {},
   "outputs": [],
   "source": [
    "seed = 42"
   ]
  },
  {
   "cell_type": "code",
   "execution_count": 3,
   "id": "e2be1379",
   "metadata": {},
   "outputs": [],
   "source": [
    "dataset_name = 'mnist'\n",
    "splits = ['train', 'test']"
   ]
  },
  {
   "cell_type": "code",
   "execution_count": 4,
   "id": "1b16c460",
   "metadata": {},
   "outputs": [],
   "source": [
    "data_dir = os.path.join('..', 'Data')"
   ]
  },
  {
   "cell_type": "code",
   "execution_count": 5,
   "id": "da1c515e",
   "metadata": {},
   "outputs": [],
   "source": [
    "(ds_train, ds_valid), ds_info = tfds.load(dataset_name,\n",
    "                                         data_dir=data_dir,\n",
    "                                         as_supervised=True,\n",
    "                                         shuffle_files=False,\n",
    "                                         with_info=True, \n",
    "                                         split=splits, \n",
    "                                         read_config=tfds.ReadConfig(shuffle_seed=seed))"
   ]
  },
  {
   "cell_type": "code",
   "execution_count": 6,
   "id": "2be53b1d",
   "metadata": {},
   "outputs": [],
   "source": [
    "def preprocess(ds, seed, normalize_fn, shuffle=False):\n",
    "    '''\n",
    "    Performs preprocessing steps on the provided dataset\n",
    "    '''\n",
    "    ds = ds.map(normalize_fn, num_parallel_calls=tf.data.experimental.AUTOTUNE)\n",
    "    if shuffle:\n",
    "        ds = ds.cache()\n",
    "        ds = ds.shuffle(1000, seed=seed)\n",
    "        ds = ds.batch(32)\n",
    "    else:\n",
    "        ds = ds.batch(32)\n",
    "        ds = ds.cache()\n",
    "    ds = ds.prefetch(tf.data.experimental.AUTOTUNE)\n",
    "    \n",
    "    return ds"
   ]
  },
  {
   "cell_type": "code",
   "execution_count": 7,
   "id": "e42fe39c",
   "metadata": {},
   "outputs": [],
   "source": [
    "def normalize_img(image, label):\n",
    "    '''\n",
    "    Normalizes images from uint8 -> float32\n",
    "    '''\n",
    "    return tf.cast(image, tf.float32) / 255., label"
   ]
  },
  {
   "cell_type": "code",
   "execution_count": 8,
   "id": "32c5f972",
   "metadata": {},
   "outputs": [],
   "source": [
    "# Perform preprocessing\n",
    "ds_train = preprocess(ds_train, seed, normalize_img, shuffle=True)\n",
    "ds_valid = preprocess(ds_valid, seed, normalize_img, shuffle=False)"
   ]
  },
  {
   "cell_type": "markdown",
   "id": "8bb8dd13",
   "metadata": {},
   "source": [
    "## Generate the initial model"
   ]
  },
  {
   "cell_type": "code",
   "execution_count": 9,
   "id": "3e3039a5",
   "metadata": {},
   "outputs": [],
   "source": [
    "input_shape = ds_info.features['image'].shape"
   ]
  },
  {
   "cell_type": "code",
   "execution_count": 10,
   "id": "272bb7c2",
   "metadata": {},
   "outputs": [],
   "source": [
    "n_output_classes = ds_info.features['label'].num_classes"
   ]
  },
  {
   "cell_type": "code",
   "execution_count": 11,
   "id": "507cd3dd",
   "metadata": {},
   "outputs": [],
   "source": [
    "conv_channel_counts = [3, 6]\n",
    "hidden_layer_sizes = [10, 10]"
   ]
  },
  {
   "cell_type": "code",
   "execution_count": 12,
   "id": "53a904d1",
   "metadata": {},
   "outputs": [],
   "source": [
    "model = keras.models.Sequential()\n",
    "model.add(keras.layers.InputLayer(input_shape=input_shape))\n",
    "for channel_count in conv_channel_counts:\n",
    "    model.add(keras.layers.Conv2D(channel_count, 3, padding='same'))\n",
    "    model.add(keras.layers.AveragePooling2D(padding='same'))\n",
    "    model.add(keras.layers.BatchNormalization())\n",
    "    model.add(keras.layers.Activation('relu'))\n",
    "model.add(keras.layers.Flatten())\n",
    "for unit_count in hidden_layer_sizes:\n",
    "    model.add(keras.layers.Dense(unit_count, activation='relu'))\n",
    "model.add(keras.layers.Dense(n_output_classes, activation='softmax'))"
   ]
  },
  {
   "cell_type": "code",
   "execution_count": 13,
   "id": "a4116eab",
   "metadata": {},
   "outputs": [],
   "source": [
    "# compiler options"
   ]
  },
  {
   "cell_type": "code",
   "execution_count": 14,
   "id": "3459bd67",
   "metadata": {},
   "outputs": [],
   "source": [
    "loss = keras.losses.sparse_categorical_crossentropy\n",
    "optimizer = keras.optimizers.SGD()\n",
    "metrics = ['accuracy']"
   ]
  },
  {
   "cell_type": "code",
   "execution_count": 15,
   "id": "147ca198",
   "metadata": {},
   "outputs": [],
   "source": [
    "model.compile(loss=loss, optimizer=optimizer, metrics=metrics)"
   ]
  },
  {
   "cell_type": "code",
   "execution_count": 16,
   "id": "6fa58c3f",
   "metadata": {},
   "outputs": [
    {
     "name": "stdout",
     "output_type": "stream",
     "text": [
      "Model: \"sequential\"\n",
      "_________________________________________________________________\n",
      "Layer (type)                 Output Shape              Param #   \n",
      "=================================================================\n",
      "conv2d (Conv2D)              (None, 28, 28, 3)         30        \n",
      "_________________________________________________________________\n",
      "average_pooling2d (AveragePo (None, 14, 14, 3)         0         \n",
      "_________________________________________________________________\n",
      "batch_normalization (BatchNo (None, 14, 14, 3)         12        \n",
      "_________________________________________________________________\n",
      "activation (Activation)      (None, 14, 14, 3)         0         \n",
      "_________________________________________________________________\n",
      "conv2d_1 (Conv2D)            (None, 14, 14, 6)         168       \n",
      "_________________________________________________________________\n",
      "average_pooling2d_1 (Average (None, 7, 7, 6)           0         \n",
      "_________________________________________________________________\n",
      "batch_normalization_1 (Batch (None, 7, 7, 6)           24        \n",
      "_________________________________________________________________\n",
      "activation_1 (Activation)    (None, 7, 7, 6)           0         \n",
      "_________________________________________________________________\n",
      "flatten (Flatten)            (None, 294)               0         \n",
      "_________________________________________________________________\n",
      "dense (Dense)                (None, 10)                2950      \n",
      "_________________________________________________________________\n",
      "dense_1 (Dense)              (None, 10)                110       \n",
      "_________________________________________________________________\n",
      "dense_2 (Dense)              (None, 10)                110       \n",
      "=================================================================\n",
      "Total params: 3,404\n",
      "Trainable params: 3,386\n",
      "Non-trainable params: 18\n",
      "_________________________________________________________________\n"
     ]
    }
   ],
   "source": [
    "model.summary()"
   ]
  },
  {
   "cell_type": "markdown",
   "id": "42864281",
   "metadata": {},
   "source": [
    "## Prepare and run ECToNAS"
   ]
  },
  {
   "cell_type": "code",
   "execution_count": 17,
   "id": "d70d8e07",
   "metadata": {},
   "outputs": [],
   "source": [
    "ectonas = main.NeuralArchitectureSearch()"
   ]
  },
  {
   "cell_type": "code",
   "execution_count": 18,
   "id": "d0cbd5af",
   "metadata": {},
   "outputs": [],
   "source": [
    "# tmp folder for storing the generated candidates and plotting data. Will be deleted after the run if cleanup=True is\n",
    "# passed to ECToNAS\n",
    "model_dir = os.path.join('..','Data','tmp')"
   ]
  },
  {
   "cell_type": "code",
   "execution_count": 19,
   "id": "f0874517",
   "metadata": {},
   "outputs": [
    {
     "name": "stdout",
     "output_type": "stream",
     "text": [
      "  Added individual 0 with descr: Base\n",
      "Budget spent: 10.00 / 100\n",
      "Mutation phase, 1 parents\n",
      "  Added individual 1 with descr: Base ** ep 10.00 B\n",
      "  Added individual 2 with descr: Base ** ep 10.00 - CB L 0 - 3\n",
      "  Added individual 3 with descr: Base ** ep 10.00 - CB L 4 - 7\n",
      "  Added individual 4 with descr: Base ** ep 10.00 + 6 CH L 0\n",
      "  Added individual 5 with descr: Base ** ep 10.00 + CB L 0\n",
      "  Added individual 6 with descr: Base ** ep 10.00 + 9 CH L 4\n",
      "  Added individual 7 with descr: Base ** ep 10.00 - 3 CH L 4\n",
      "  Added individual 8 with descr: Base ** ep 10.00 + CB L 4\n",
      "  Added individual 9 with descr: Base ** ep 10.00 + CB L 8\n",
      "  Added individual 10 with descr: Base ** ep 10.00 + 12 U L 9\n",
      "  Added individual 11 with descr: Base ** ep 10.00 - 8 U L 9\n",
      "  Added individual 12 with descr: Base ** ep 10.00 - FC L 9\n",
      "  Added individual 13 with descr: Base ** ep 10.00 + 12 U L 10\n",
      "  Added individual 14 with descr: Base ** ep 10.00 - 8 U L 10\n",
      "  Added individual 15 with descr: Base ** ep 10.00 - FC L 10\n",
      "  Added individual 16 with descr: Base ** ep 10.00 + FC L 10\n",
      "  Added individual 17 with descr: Base ** ep 10.00 + FC L 11\n",
      "Competition phase 1, 17 competitors\n",
      "  Competitor ranking (greedy):\n",
      "  (1, 0.978, 0.978, 0.974, 3386, 3386)\n",
      "  Competitor ranking (greedy):\n",
      "  (1, 0.981, 0.981, 0.974, 3386, 3386)\n",
      "  Competitor ranking (greedy):\n",
      "  (1, 0.983, 0.983, 0.974, 3386, 3386)\n",
      "  Competitor ranking (greedy):\n",
      "  (2, 0.971, 0.971, 0.974, 12062, 3386)\n",
      "  (3, 0.948, 0.948, 0.974, 6146, 3386)\n",
      "  Competitor ranking (greedy):\n",
      "  (2, 0.977, 0.977, 0.974, 12062, 3386)\n",
      "  Competitor ranking (greedy):\n",
      "  (2, 0.981, 0.981, 0.974, 12062, 3386)\n",
      "  Competitor ranking (greedy):\n",
      "  (4, 0.980, 0.980, 0.974, 3584, 3386)\n",
      "  (6, 0.979, 0.979, 0.974, 4946, 3386)\n",
      "  Competitor ranking (greedy):\n",
      "  (4, 0.983, 0.983, 0.974, 3584, 3386)\n",
      "  Competitor ranking (greedy):\n",
      "  (4, 0.985, 0.985, 0.974, 3584, 3386)\n",
      "  Competitor ranking (greedy):\n",
      "  (9, 0.964, 0.964, 0.974, 1748, 3386)\n",
      "  (5, 0.943, 0.943, 0.974, 1418, 3386)\n",
      "  Competitor ranking (greedy):\n",
      "  (8, 0.957, 0.957, 0.974, 1496, 3386)\n",
      "  Competitor ranking (greedy):\n",
      "  (9, 0.973, 0.973, 0.974, 1748, 3386)\n",
      "  (8, 0.967, 0.967, 0.974, 1496, 3386)\n",
      "  Competitor ranking (greedy):\n",
      "  (9, 0.976, 0.976, 0.974, 1748, 3386)\n",
      "  Competitor ranking (greedy):\n",
      "  (7, 0.968, 0.968, 0.974, 1826, 3386)\n",
      "  Competitor ranking (greedy):\n",
      "  (7, 0.971, 0.971, 0.974, 1826, 3386)\n",
      "  Competitor ranking (greedy):\n",
      "  (7, 0.974, 0.974, 0.974, 1826, 3386)\n",
      "  Competitor ranking (greedy):\n",
      "  (13, 0.978, 0.978, 0.974, 3428, 3386)\n",
      "  (10, 0.978, 0.978, 0.974, 3996, 3386)\n",
      "  Competitor ranking (greedy):\n",
      "  (13, 0.981, 0.981, 0.974, 3428, 3386)\n",
      "  Competitor ranking (greedy):\n",
      "  (13, 0.983, 0.983, 0.974, 3428, 3386)\n",
      "  Competitor ranking (greedy):\n",
      "  (11, 0.969, 0.969, 0.974, 2776, 3386)\n",
      "  (14, 0.969, 0.969, 0.974, 3344, 3386)\n",
      "  Competitor ranking (greedy):\n",
      "  (11, 0.975, 0.975, 0.974, 2776, 3386)\n",
      "  Competitor ranking (greedy):\n",
      "  (11, 0.977, 0.977, 0.974, 2776, 3386)\n",
      "  Competitor ranking (greedy):\n",
      "  (15, 0.980, 0.980, 0.974, 3276, 3386)\n",
      "  (12, 0.977, 0.977, 0.974, 3276, 3386)\n",
      "  Competitor ranking (greedy):\n",
      "  (15, 0.981, 0.981, 0.974, 3276, 3386)\n",
      "  Competitor ranking (greedy):\n",
      "  (15, 0.983, 0.983, 0.974, 3276, 3386)\n",
      "  Competitor ranking (greedy):\n",
      "  (17, 0.978, 0.978, 0.974, 3496, 3386)\n",
      "  (16, 0.978, 0.978, 0.974, 3496, 3386)\n",
      "  Competitor ranking (greedy):\n",
      "  (17, 0.981, 0.981, 0.974, 3496, 3386)\n",
      "  Competitor ranking (greedy):\n",
      "  (17, 0.982, 0.982, 0.974, 3496, 3386)\n",
      "Competition phase 2, 9 competitors\n",
      "  Competitor ranking (greedy):\n",
      "  (15, 0.984, 0.984, 0.974, 3276, 3386)\n",
      "  (11, 0.979, 0.979, 0.974, 2776, 3386)\n",
      "  Competitor ranking (greedy):\n",
      "  (4, 0.986, 0.986, 0.974, 3584, 3386)\n",
      "  (9, 0.978, 0.978, 0.974, 1748, 3386)\n",
      "  Competitor ranking (greedy):\n",
      "  (1, 0.983, 0.983, 0.974, 3386, 3386)\n",
      "  (2, 0.983, 0.983, 0.974, 12062, 3386)\n",
      "  Competitor ranking (greedy):\n",
      "  (17, 0.983, 0.983, 0.974, 3496, 3386)\n",
      "  (7, 0.975, 0.975, 0.974, 1826, 3386)\n",
      "  Competitor ranking (greedy):\n",
      "  (13, 0.984, 0.984, 0.974, 3428, 3386)\n",
      "  Competitor ranking (greedy):\n",
      "  (15, 0.984, 0.984, 0.974, 3276, 3386)\n",
      "  (17, 0.984, 0.984, 0.974, 3496, 3386)\n",
      "  Competitor ranking (greedy):\n",
      "  (13, 0.984, 0.984, 0.974, 3428, 3386)\n",
      "  (1, 0.984, 0.984, 0.974, 3386, 3386)\n",
      "  Competitor ranking (greedy):\n",
      "  (4, 0.987, 0.987, 0.974, 3584, 3386)\n",
      "  Competitor ranking (greedy):\n",
      "  (4, 0.987, 0.987, 0.974, 3584, 3386)\n",
      "  (15, 0.985, 0.985, 0.974, 3276, 3386)\n",
      "  Competitor ranking (greedy):\n",
      "  (13, 0.985, 0.985, 0.974, 3428, 3386)\n",
      "Evolution phase\n",
      "Budget spent: 283.45 / 100\n",
      "Done!\n",
      "  Competitor ranking (greedy):\n",
      "  (4, 0.987, 0.987, 0.974, 3584, 3386)\n",
      "  (13, 0.985, 0.985, 0.974, 3428, 3386)\n"
     ]
    }
   ],
   "source": [
    "new_model, optimized_individual = ectonas.run(model, ds_train=ds_train, ds_valid=ds_valid, model_dir=model_dir,\n",
    "                                              loss=loss, optimizer=optimizer, metrics=metrics, \n",
    "                                              greediness_weight=1, cleanup=True, verbosity=2)"
   ]
  },
  {
   "cell_type": "markdown",
   "id": "35f3fe0d",
   "metadata": {},
   "source": [
    "## Inspect results"
   ]
  },
  {
   "cell_type": "code",
   "execution_count": 20,
   "id": "a77ae924",
   "metadata": {},
   "outputs": [
    {
     "data": {
      "text/plain": [
       "'Base ** ep 10.00 + 6 CH L 0'"
      ]
     },
     "execution_count": 20,
     "metadata": {},
     "output_type": "execute_result"
    }
   ],
   "source": [
    "optimized_individual.description"
   ]
  },
  {
   "cell_type": "code",
   "execution_count": 21,
   "id": "25e977a6",
   "metadata": {},
   "outputs": [
    {
     "name": "stdout",
     "output_type": "stream",
     "text": [
      "Model: \"sequential\"\n",
      "_________________________________________________________________\n",
      "Layer (type)                 Output Shape              Param #   \n",
      "=================================================================\n",
      "conv2d (Conv2D)              (None, 28, 28, 6)         60        \n",
      "_________________________________________________________________\n",
      "average_pooling2d (AveragePo (None, 14, 14, 6)         0         \n",
      "_________________________________________________________________\n",
      "batch_normalization (BatchNo (None, 14, 14, 6)         24        \n",
      "_________________________________________________________________\n",
      "activation (Activation)      (None, 14, 14, 6)         0         \n",
      "_________________________________________________________________\n",
      "conv2d_1 (Conv2D)            (None, 14, 14, 6)         330       \n",
      "_________________________________________________________________\n",
      "average_pooling2d_1 (Average (None, 7, 7, 6)           0         \n",
      "_________________________________________________________________\n",
      "batch_normalization_1 (Batch (None, 7, 7, 6)           24        \n",
      "_________________________________________________________________\n",
      "activation_1 (Activation)    (None, 7, 7, 6)           0         \n",
      "_________________________________________________________________\n",
      "flatten (Flatten)            (None, 294)               0         \n",
      "_________________________________________________________________\n",
      "dense (Dense)                (None, 10)                2950      \n",
      "_________________________________________________________________\n",
      "dense_1 (Dense)              (None, 10)                110       \n",
      "_________________________________________________________________\n",
      "dense_2 (Dense)              (None, 10)                110       \n",
      "=================================================================\n",
      "Total params: 3,608\n",
      "Trainable params: 3,584\n",
      "Non-trainable params: 24\n",
      "_________________________________________________________________\n"
     ]
    }
   ],
   "source": [
    "new_model.summary()"
   ]
  },
  {
   "cell_type": "code",
   "execution_count": 22,
   "id": "ef9915d4",
   "metadata": {},
   "outputs": [],
   "source": [
    "#new_model.evaluate(ds_test) optional - evaluate on separate test data"
   ]
  },
  {
   "cell_type": "code",
   "execution_count": 23,
   "id": "678b9397",
   "metadata": {},
   "outputs": [
    {
     "data": {
      "text/plain": [
       "[(1.0, 0.9169999957084656),\n",
       " (2.0, 0.9553999900817871),\n",
       " (3.0, 0.9645000100135803),\n",
       " (4.0, 0.9538000226020813),\n",
       " (5.0, 0.9632999897003174),\n",
       " (6.0, 0.9660999774932861),\n",
       " (7.0, 0.9740999937057495),\n",
       " (8.0, 0.9717000126838684),\n",
       " (9.0, 0.9707000255584717),\n",
       " (10.0, 0.9746000170707703),\n",
       " (10.1, 0.385699987411499),\n",
       " (11.1, 0.9724000096321106),\n",
       " (12.1, 0.9567999839782715),\n",
       " (13.1, 0.9757000207901001),\n",
       " (14.1, 0.9678000211715698),\n",
       " (15.1, 0.9728000164031982),\n",
       " (16.1, 0.9797000288963318),\n",
       " (17.1, 0.9800000190734863),\n",
       " (18.1, 0.9807000160217285),\n",
       " (19.1, 0.9810000061988831),\n",
       " (20.1, 0.9825000166893005),\n",
       " (21.1, 0.9825000166893005),\n",
       " (22.1, 0.979200005531311),\n",
       " (23.1, 0.9811000227928162),\n",
       " (24.1, 0.9785000085830688),\n",
       " (25.1, 0.979200005531311),\n",
       " (26.1, 0.9789000153541565),\n",
       " (27.1, 0.9775999784469604),\n",
       " (28.1, 0.9815000295639038),\n",
       " (29.1, 0.9797999858856201),\n",
       " (30.1, 0.9822999835014343),\n",
       " (31.1, 0.9797000288963318),\n",
       " (32.1, 0.9821000099182129),\n",
       " (33.1, 0.9801999926567078),\n",
       " (34.1, 0.9822999835014343),\n",
       " (35.1, 0.9830999970436096),\n",
       " (36.1, 0.9721999764442444),\n",
       " (37.1, 0.9821000099182129),\n",
       " (38.1, 0.9821000099182129),\n",
       " (39.1, 0.9797999858856201),\n",
       " (40.1, 0.9836999773979187)]"
      ]
     },
     "execution_count": 23,
     "metadata": {},
     "output_type": "execute_result"
    }
   ],
   "source": [
    "optimized_individual.history['val_accuracy']"
   ]
  },
  {
   "cell_type": "code",
   "execution_count": 24,
   "id": "d2256c54",
   "metadata": {},
   "outputs": [
    {
     "data": {
      "text/plain": [
       "[(1.0, 0.7421333193778992),\n",
       " (2.0, 0.9418666958808899),\n",
       " (3.0, 0.954716682434082),\n",
       " (4.0, 0.9617999792098999),\n",
       " (5.0, 0.9653666615486145),\n",
       " (6.0, 0.9682000279426575),\n",
       " (7.0, 0.9706833362579346),\n",
       " (8.0, 0.972266674041748),\n",
       " (9.0, 0.9741833209991455),\n",
       " (10.0, 0.9744833111763),\n",
       " (10.1, 0.9710896015167236),\n",
       " (11.1, 0.975849986076355),\n",
       " (12.1, 0.9772999882698059),\n",
       " (13.1, 0.9789333343505859),\n",
       " (14.1, 0.9800000190734863),\n",
       " (15.1, 0.9807166457176208),\n",
       " (16.1, 0.9819833040237427),\n",
       " (17.1, 0.9819499850273132),\n",
       " (18.1, 0.9827333092689514),\n",
       " (19.1, 0.9829666614532471),\n",
       " (20.1, 0.9835166931152344),\n",
       " (21.1, 0.9843000173568726),\n",
       " (22.1, 0.9845499992370605),\n",
       " (23.1, 0.9845166802406311),\n",
       " (24.1, 0.9848333597183228),\n",
       " (25.1, 0.9851166605949402),\n",
       " (26.1, 0.9849666953086853),\n",
       " (27.1, 0.9856333136558533),\n",
       " (28.1, 0.9860666394233704),\n",
       " (29.1, 0.9857000112533569),\n",
       " (30.1, 0.9859333038330078),\n",
       " (31.1, 0.9861166477203369),\n",
       " (32.1, 0.9868833422660828),\n",
       " (33.1, 0.9868833422660828),\n",
       " (34.1, 0.9865833520889282),\n",
       " (35.1, 0.9862666726112366),\n",
       " (36.1, 0.9867666959762573),\n",
       " (37.1, 0.9869833588600159),\n",
       " (38.1, 0.9868666529655457),\n",
       " (39.1, 0.9875500202178955),\n",
       " (40.1, 0.9875500202178955)]"
      ]
     },
     "execution_count": 24,
     "metadata": {},
     "output_type": "execute_result"
    }
   ],
   "source": [
    "optimized_individual.history['accuracy']"
   ]
  },
  {
   "cell_type": "markdown",
   "id": "3f2f5334",
   "metadata": {},
   "source": [
    "## Plots"
   ]
  },
  {
   "cell_type": "code",
   "execution_count": 25,
   "id": "39ae5661",
   "metadata": {},
   "outputs": [],
   "source": [
    "plotting = pd.DataFrame(optimized_individual.plotting_data.T)\n",
    "plotting.columns = optimized_individual.plotting_keys"
   ]
  },
  {
   "cell_type": "code",
   "execution_count": 26,
   "id": "7cffc359",
   "metadata": {},
   "outputs": [
    {
     "data": {
      "text/plain": [
       "Index(['epochs', 'loss', 'accuracy', 'val_loss', 'val_accuracy'], dtype='object')"
      ]
     },
     "execution_count": 26,
     "metadata": {},
     "output_type": "execute_result"
    }
   ],
   "source": [
    "plotting.columns"
   ]
  },
  {
   "cell_type": "code",
   "execution_count": 27,
   "id": "b04fef6b",
   "metadata": {},
   "outputs": [
    {
     "data": {
      "image/png": "[encoded data removed]",
      "text/plain": [
       "<Figure size 1008x432 with 2 Axes>"
      ]
     },
     "metadata": {
      "needs_background": "light"
     },
     "output_type": "display_data"
    }
   ],
   "source": [
    "fig, axes = plt.subplots(1, 2, figsize=(14, 6))\n",
    "sns.lineplot(x='epochs', y='loss', data=plotting, ax=axes[0], label='Loss')\n",
    "sns.lineplot(x='epochs', y='val_loss', data=plotting, ax=axes[0], label='Validation Loss')\n",
    "sns.lineplot(x='epochs', y='accuracy', data=plotting, ax=axes[1], label='Accuracy')\n",
    "sns.lineplot(x='epochs', y='val_accuracy', data=plotting, ax=axes[1], label='Validation Accuracy')\n",
    "plt.legend()\n",
    "plt.tight_layout()\n",
    "plt.show()"
   ]
  },
  {
   "cell_type": "code",
   "execution_count": 28,
   "id": "e9627d6c",
   "metadata": {},
   "outputs": [],
   "source": [
    "#ectonas.dynamic_parameters.log"
   ]
  },
  {
   "cell_type": "code",
   "execution_count": 29,
   "id": "1cee5605",
   "metadata": {},
   "outputs": [
    {
     "data": {
      "text/html": [
       "<div>\n",
       "<style scoped>\n",
       "    .dataframe tbody tr th:only-of-type {\n",
       "        vertical-align: middle;\n",
       "    }\n",
       "\n",
       "    .dataframe tbody tr th {\n",
       "        vertical-align: top;\n",
       "    }\n",
       "\n",
       "    .dataframe thead th {\n",
       "        text-align: right;\n",
       "    }\n",
       "</style>\n",
       "<table border=\"1\" class=\"dataframe\">\n",
       "  <thead>\n",
       "    <tr style=\"text-align: right;\">\n",
       "      <th></th>\n",
       "      <th>epochs</th>\n",
       "      <th>loss</th>\n",
       "      <th>accuracy</th>\n",
       "      <th>val_loss</th>\n",
       "      <th>val_accuracy</th>\n",
       "    </tr>\n",
       "  </thead>\n",
       "  <tbody>\n",
       "    <tr>\n",
       "      <th>0</th>\n",
       "      <td>1.0</td>\n",
       "      <td>0.812418</td>\n",
       "      <td>0.742133</td>\n",
       "      <td>0.276263</td>\n",
       "      <td>0.9170</td>\n",
       "    </tr>\n",
       "    <tr>\n",
       "      <th>1</th>\n",
       "      <td>2.0</td>\n",
       "      <td>0.199574</td>\n",
       "      <td>0.941867</td>\n",
       "      <td>0.143069</td>\n",
       "      <td>0.9554</td>\n",
       "    </tr>\n",
       "    <tr>\n",
       "      <th>2</th>\n",
       "      <td>3.0</td>\n",
       "      <td>0.147947</td>\n",
       "      <td>0.954717</td>\n",
       "      <td>0.116060</td>\n",
       "      <td>0.9645</td>\n",
       "    </tr>\n",
       "    <tr>\n",
       "      <th>3</th>\n",
       "      <td>4.0</td>\n",
       "      <td>0.124565</td>\n",
       "      <td>0.961800</td>\n",
       "      <td>0.148278</td>\n",
       "      <td>0.9538</td>\n",
       "    </tr>\n",
       "    <tr>\n",
       "      <th>4</th>\n",
       "      <td>5.0</td>\n",
       "      <td>0.110614</td>\n",
       "      <td>0.965367</td>\n",
       "      <td>0.112458</td>\n",
       "      <td>0.9633</td>\n",
       "    </tr>\n",
       "  </tbody>\n",
       "</table>\n",
       "</div>"
      ],
      "text/plain": [
       "   epochs      loss  accuracy  val_loss  val_accuracy\n",
       "0     1.0  0.812418  0.742133  0.276263        0.9170\n",
       "1     2.0  0.199574  0.941867  0.143069        0.9554\n",
       "2     3.0  0.147947  0.954717  0.116060        0.9645\n",
       "3     4.0  0.124565  0.961800  0.148278        0.9538\n",
       "4     5.0  0.110614  0.965367  0.112458        0.9633"
      ]
     },
     "execution_count": 29,
     "metadata": {},
     "output_type": "execute_result"
    }
   ],
   "source": [
    "plotting.head()"
   ]
  },
  {
   "cell_type": "code",
   "execution_count": 30,
   "id": "c4eab8fc",
   "metadata": {
    "scrolled": true
   },
   "outputs": [],
   "source": [
    "# rolling plots for less spikey curves\n",
    "df_roll = plotting.rolling(3, min_periods=1, center=False).mean()"
   ]
  },
  {
   "cell_type": "code",
   "execution_count": 31,
   "id": "cd56ea20",
   "metadata": {},
   "outputs": [
    {
     "data": {
      "image/png": "[encoded data removed]",
      "text/plain": [
       "<Figure size 1008x432 with 2 Axes>"
      ]
     },
     "metadata": {
      "needs_background": "light"
     },
     "output_type": "display_data"
    }
   ],
   "source": [
    "fig, axes = plt.subplots(1, 2, figsize=(14, 6))\n",
    "sns.lineplot(x='epochs', y='loss', data=df_roll, ax=axes[0], label='Loss')\n",
    "sns.lineplot(x='epochs', y='val_loss', data=df_roll, ax=axes[0], label='Validation Loss')\n",
    "sns.lineplot(x='epochs', y='accuracy', data=df_roll, ax=axes[1], label='Accuracy')\n",
    "sns.lineplot(x='epochs', y='val_accuracy', data=df_roll, ax=axes[1], label='Validation Accuracy')\n",
    "plt.legend()\n",
    "plt.tight_layout()\n",
    "plt.show()"
   ]
  },
  {
   "cell_type": "code",
   "execution_count": null,
   "id": "e44b602d",
   "metadata": {},
   "outputs": [],
   "source": []
  }
 ],
 "metadata": {
  "kernelspec": {
   "display_name": "Python 3 (ipykernel)",
   "language": "python",
   "name": "python3"
  },
  "language_info": {
   "codemirror_mode": {
    "name": "ipython",
    "version": 3
   },
   "file_extension": ".py",
   "mimetype": "text/x-python",
   "name": "python",
   "nbconvert_exporter": "python",
   "pygments_lexer": "ipython3",
   "version": "3.8.12"
  }
 },
 "nbformat": 4,
 "nbformat_minor": 5
}
